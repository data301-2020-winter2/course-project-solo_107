{
 "cells": [
  {
   "cell_type": "markdown",
   "metadata": {},
   "source": [
    "# EDA (Exploratory Data Analysis)"
   ]
  },
  {
   "cell_type": "markdown",
   "metadata": {},
   "source": [
    "#### Importing the cleaned data set and required packages\n",
    "To see how this data was cleaned, look at the EDA-Cleaning.ipynb file"
   ]
  },
  {
   "cell_type": "code",
   "execution_count": 7,
   "metadata": {},
   "outputs": [],
   "source": [
    "import pandas as pd\n",
    "import numpy as np\n",
    "import matplotlib.pyplot as plt\n",
    "import seaborn as sns"
   ]
  },
  {
   "cell_type": "code",
   "execution_count": 8,
   "metadata": {},
   "outputs": [
    {
     "data": {
      "text/html": [
       "<div>\n",
       "<style scoped>\n",
       "    .dataframe tbody tr th:only-of-type {\n",
       "        vertical-align: middle;\n",
       "    }\n",
       "\n",
       "    .dataframe tbody tr th {\n",
       "        vertical-align: top;\n",
       "    }\n",
       "\n",
       "    .dataframe thead th {\n",
       "        text-align: right;\n",
       "    }\n",
       "</style>\n",
       "<table border=\"1\" class=\"dataframe\">\n",
       "  <thead>\n",
       "    <tr style=\"text-align: right;\">\n",
       "      <th></th>\n",
       "      <th>Country</th>\n",
       "      <th>Points</th>\n",
       "      <th>Price</th>\n",
       "      <th>Province</th>\n",
       "      <th>Region</th>\n",
       "      <th>Name</th>\n",
       "      <th>Variety</th>\n",
       "      <th>Winery</th>\n",
       "    </tr>\n",
       "  </thead>\n",
       "  <tbody>\n",
       "    <tr>\n",
       "      <th>0</th>\n",
       "      <td>US</td>\n",
       "      <td>87</td>\n",
       "      <td>14.0</td>\n",
       "      <td>Oregon</td>\n",
       "      <td>Willamette Valley</td>\n",
       "      <td>Rainstorm 2013 Pinot Gris (Willamette Valley)</td>\n",
       "      <td>Pinot Gris</td>\n",
       "      <td>Rainstorm</td>\n",
       "    </tr>\n",
       "    <tr>\n",
       "      <th>1</th>\n",
       "      <td>US</td>\n",
       "      <td>87</td>\n",
       "      <td>13.0</td>\n",
       "      <td>Michigan</td>\n",
       "      <td>Lake Michigan Shore</td>\n",
       "      <td>St. Julian 2013 Reserve Late Harvest Riesling ...</td>\n",
       "      <td>Riesling</td>\n",
       "      <td>St. Julian</td>\n",
       "    </tr>\n",
       "    <tr>\n",
       "      <th>2</th>\n",
       "      <td>US</td>\n",
       "      <td>87</td>\n",
       "      <td>65.0</td>\n",
       "      <td>Oregon</td>\n",
       "      <td>Willamette Valley</td>\n",
       "      <td>Sweet Cheeks 2012 Vintner's Reserve Wild Child...</td>\n",
       "      <td>Pinot Noir</td>\n",
       "      <td>Sweet Cheeks</td>\n",
       "    </tr>\n",
       "    <tr>\n",
       "      <th>3</th>\n",
       "      <td>France</td>\n",
       "      <td>87</td>\n",
       "      <td>24.0</td>\n",
       "      <td>Alsace</td>\n",
       "      <td>Alsace</td>\n",
       "      <td>Trimbach 2012 Gewurztraminer (Alsace)</td>\n",
       "      <td>Gewürztraminer</td>\n",
       "      <td>Trimbach</td>\n",
       "    </tr>\n",
       "    <tr>\n",
       "      <th>4</th>\n",
       "      <td>France</td>\n",
       "      <td>87</td>\n",
       "      <td>27.0</td>\n",
       "      <td>Alsace</td>\n",
       "      <td>Alsace</td>\n",
       "      <td>Jean-Baptiste Adam 2012 Les Natures Pinot Gris...</td>\n",
       "      <td>Pinot Gris</td>\n",
       "      <td>Jean-Baptiste Adam</td>\n",
       "    </tr>\n",
       "  </tbody>\n",
       "</table>\n",
       "</div>"
      ],
      "text/plain": [
       "  Country  Points  Price  Province               Region  \\\n",
       "0      US      87   14.0    Oregon    Willamette Valley   \n",
       "1      US      87   13.0  Michigan  Lake Michigan Shore   \n",
       "2      US      87   65.0    Oregon    Willamette Valley   \n",
       "3  France      87   24.0    Alsace               Alsace   \n",
       "4  France      87   27.0    Alsace               Alsace   \n",
       "\n",
       "                                                Name         Variety  \\\n",
       "0      Rainstorm 2013 Pinot Gris (Willamette Valley)      Pinot Gris   \n",
       "1  St. Julian 2013 Reserve Late Harvest Riesling ...        Riesling   \n",
       "2  Sweet Cheeks 2012 Vintner's Reserve Wild Child...      Pinot Noir   \n",
       "3              Trimbach 2012 Gewurztraminer (Alsace)  Gewürztraminer   \n",
       "4  Jean-Baptiste Adam 2012 Les Natures Pinot Gris...      Pinot Gris   \n",
       "\n",
       "               Winery  \n",
       "0           Rainstorm  \n",
       "1          St. Julian  \n",
       "2        Sweet Cheeks  \n",
       "3            Trimbach  \n",
       "4  Jean-Baptiste Adam  "
      ]
     },
     "execution_count": 8,
     "metadata": {},
     "output_type": "execute_result"
    }
   ],
   "source": [
    "from scripts import project_functions # This is called a relative import\n",
    "\n",
    "df = project_functions.load_and_process('../data/raw/winemag-data.csv')\n",
    "\n",
    "df.head()"
   ]
  },
  {
   "cell_type": "markdown",
   "metadata": {},
   "source": [
    "## Questions to answer through Exploration: \n",
    "\n",
    "#### Initial Questions I made in Milestone 1:\n",
    "1. How is the price of wine related to its quality score? \n",
    "2. What country produces the highest scoring wine? \n",
    "3. What are the top ten most expensive regions for producing wine?\n",
    "\n",
    "#### Questions I need to explore before analyzing:\n",
    "- What variables have correlations with eachother?\n",
    "- What variables are the most important when determining price or points?\n",
    "- What types of visualizations are easy to interpret and give me a good insight into the data?"
   ]
  },
  {
   "cell_type": "markdown",
   "metadata": {},
   "source": [
    "## Correlation Matrix\n",
    "#### Plotting a heatmap to see any correlations between variables"
   ]
  },
  {
   "cell_type": "code",
   "execution_count": 9,
   "metadata": {},
   "outputs": [
    {
     "data": {
      "text/plain": [
       "<matplotlib.axes._subplots.AxesSubplot at 0x1479dc070>"
      ]
     },
     "execution_count": 9,
     "metadata": {},
     "output_type": "execute_result"
    },
    {
     "data": {
      "image/png": "[encoded data removed]",
      "text/plain": [
       "<Figure size 432x288 with 2 Axes>"
      ]
     },
     "metadata": {
      "needs_background": "light"
     },
     "output_type": "display_data"
    }
   ],
   "source": [
    "corr = df.corr()# plot the heatmap\n",
    "sns.heatmap(corr, xticklabels=corr.columns, yticklabels=corr.columns, \n",
    "            annot=True, cmap=sns.diverging_palette(220, 20, as_cmap=True))"
   ]
  },
  {
   "cell_type": "markdown",
   "metadata": {},
   "source": [
    "There is a positive correlation between price and points. As the price increases, so does the points that the wine scored. This is as expected."
   ]
  },
  {
   "cell_type": "markdown",
   "metadata": {},
   "source": [
    "## Scatter Plot\n",
    "#### Now I will look further into the correlation between price and points"
   ]
  },
  {
   "cell_type": "code",
   "execution_count": 10,
   "metadata": {},
   "outputs": [
    {
     "data": {
      "text/plain": [
       "<matplotlib.axes._subplots.AxesSubplot at 0x1459f5280>"
      ]
     },
     "execution_count": 10,
     "metadata": {},
     "output_type": "execute_result"
    },
    {
     "data": {
      "image/png": "[encoded data removed]",
      "text/plain": [
       "<Figure size 432x288 with 1 Axes>"
      ]
     },
     "metadata": {
      "needs_background": "light"
     },
     "output_type": "display_data"
    }
   ],
   "source": [
    "df.plot(kind='scatter', x='Price', y='Points')"
   ]
  },
  {
   "cell_type": "code",
   "execution_count": 11,
   "metadata": {},
   "outputs": [
    {
     "data": {
      "text/plain": [
       "<matplotlib.axes._subplots.AxesSubplot at 0x146e1b9a0>"
      ]
     },
     "execution_count": 11,
     "metadata": {},
     "output_type": "execute_result"
    },
    {
     "data": {
      "image/png": "[encoded data removed]",
      "text/plain": [
       "<Figure size 432x288 with 1 Axes>"
      ]
     },
     "metadata": {
      "needs_background": "light"
     },
     "output_type": "display_data"
    }
   ],
   "source": [
    "df.plot(kind='scatter', x='Points', y='Price')"
   ]
  },
  {
   "cell_type": "markdown",
   "metadata": {},
   "source": [
    "It is easier to read the scatter plot when it is Points in the horizontal axis and Price in the vertical axis. We can see the although as points increases, there are more wines that have a larger price. However, there are almost always wines with high Points that still maintain a low Price."
   ]
  },
  {
   "cell_type": "code",
   "execution_count": 12,
   "metadata": {},
   "outputs": [
    {
     "data": {
      "text/plain": [
       "<seaborn.axisgrid.PairGrid at 0x1432af3a0>"
      ]
     },
     "execution_count": 12,
     "metadata": {},
     "output_type": "execute_result"
    },
    {
     "data": {
      "image/png": "[encoded data removed]",
      "text/plain": [
       "<Figure size 360x360 with 6 Axes>"
      ]
     },
     "metadata": {
      "needs_background": "light"
     },
     "output_type": "display_data"
    }
   ],
   "source": [
    "sns.pairplot(df)"
   ]
  },
  {
   "cell_type": "markdown",
   "metadata": {},
   "source": [
    "Although the points are Normally Distributed, the prices are generally low."
   ]
  },
  {
   "cell_type": "markdown",
   "metadata": {},
   "source": [
    "## Histograms\n",
    "#### Now we will take a look at comparing the Numerical Data (Price/Points) in Comparison to the NonNumerical Data (Country, Region, Variety etc.)"
   ]
  },
  {
   "cell_type": "code",
   "execution_count": 17,
   "metadata": {},
   "outputs": [
    {
     "data": {
      "text/plain": [
       "Text(0.5, 1.0, 'Countries')"
      ]
     },
     "execution_count": 17,
     "metadata": {},
     "output_type": "execute_result"
    },
    {
     "data": {
      "image/png": "[encoded data removed]",
      "text/plain": [
       "<Figure size 432x288 with 1 Axes>"
      ]
     },
     "metadata": {
      "needs_background": "light"
     },
     "output_type": "display_data"
    }
   ],
   "source": [
    "sns.countplot(data=df, y='Country').set_title(\"Countries\")"
   ]
  },
  {
   "cell_type": "markdown",
   "metadata": {},
   "source": [
    "There is lots of data for the top six countries: US, France, Argentina, Spain, Italy, Austrialia."
   ]
  },
  {
   "cell_type": "code",
   "execution_count": 22,
   "metadata": {},
   "outputs": [
    {
     "data": {
      "text/plain": [
       "Text(0.5, 0, 'Count')"
      ]
     },
     "execution_count": 22,
     "metadata": {},
     "output_type": "execute_result"
    },
    {
     "data": {
      "image/png": "[encoded data removed]",
      "text/plain": [
       "<Figure size 432x288 with 1 Axes>"
      ]
     },
     "metadata": {
      "needs_background": "light"
     },
     "output_type": "display_data"
    }
   ],
   "source": [
    "df2 = df.dropna()\n",
    "sns.countplot(data=df2, \n",
    "              y='Country',\n",
    "              order= df2['Country'].value_counts().index[:6],\n",
    "             hue= 'Variety',\n",
    "              hue_order = df2['Variety'].value_counts().index[:5]\n",
    "             ).set_title(\"5 Countries split by top 5 most Common Wines\")\n",
    "plt.xlabel('Count')"
   ]
  },
  {
   "cell_type": "markdown",
   "metadata": {},
   "source": [
    "This tells us which wine variety is most common in each country"
   ]
  },
  {
   "cell_type": "code",
   "execution_count": 28,
   "metadata": {},
   "outputs": [
    {
     "data": {
      "text/plain": [
       "Text(0.5, 0, 'Count')"
      ]
     },
     "execution_count": 28,
     "metadata": {},
     "output_type": "execute_result"
    },
    {
     "data": {
      "image/png": "[encoded data removed]",
      "text/plain": [
       "<Figure size 432x288 with 1 Axes>"
      ]
     },
     "metadata": {
      "needs_background": "light"
     },
     "output_type": "display_data"
    }
   ],
   "source": [
    "\n",
    "sns.countplot(data=df, \n",
    "              y='Region',\n",
    "              order= df['Region'].value_counts().index[:6],\n",
    "             hue= 'Variety',\n",
    "              hue_order = df['Variety'].value_counts().index[:5]\n",
    "             ).set_title(\"5 Countries split by top 5 most Common Wines\")\n",
    "plt.xlabel('Count')"
   ]
  },
  {
   "cell_type": "markdown",
   "metadata": {},
   "source": [
    "## New Questions I have after looking at these initial graphs:\n",
    "1. What is the maximum wine score in each country and region?\n",
    "2. What wine has the highest price, but lowest score? What wine has the highest score, but lowest price?\n",
    "3. What is the highest scoring wine in each country compared to their most commonly made wine?"
   ]
  },
  {
   "cell_type": "code",
   "execution_count": 35,
   "metadata": {},
   "outputs": [
    {
     "data": {
      "text/plain": [
       "Text(0.5, 0, 'Count')"
      ]
     },
     "execution_count": 35,
     "metadata": {},
     "output_type": "execute_result"
    },
    {
     "data": {
      "image/png": "[encoded data removed]",
      "text/plain": [
       "<Figure size 432x288 with 1 Axes>"
      ]
     },
     "metadata": {
      "needs_background": "light"
     },
     "output_type": "display_data"
    }
   ],
   "source": [
    "PS = df[ df['Points'].max() == df['Points'] ]\n",
    "# These are wines that get a maximum score of 100\n",
    "\n",
    "sns.countplot(data=PS, \n",
    "              y='Country',\n",
    "              order= PS['Country'].value_counts().index[:6],\n",
    "             hue= 'Variety',\n",
    "              hue_order = PS['Variety'].value_counts().index[:5]\n",
    "             ).set_title(\"Perfect Score Wine by Country (Score = 100)\")\n",
    "plt.xlabel('Count')"
   ]
  },
  {
   "cell_type": "code",
   "execution_count": 34,
   "metadata": {},
   "outputs": [
    {
     "data": {
      "text/plain": [
       "Text(0.5, 0, 'Count')"
      ]
     },
     "execution_count": 34,
     "metadata": {},
     "output_type": "execute_result"
    },
    {
     "data": {
      "image/png": "[encoded data removed]",
      "text/plain": [
       "<Figure size 432x288 with 1 Axes>"
      ]
     },
     "metadata": {
      "needs_background": "light"
     },
     "output_type": "display_data"
    }
   ],
   "source": [
    "HP = df[ df['Price'] > 500 ]\n",
    "# These are wines that have a price over 2000\n",
    "sns.countplot(data=HP, \n",
    "              y='Country',\n",
    "              order= HP['Country'].value_counts().index[:6],\n",
    "             hue= 'Variety',\n",
    "              hue_order = HP['Variety'].value_counts().index[:5]\n",
    "             ).set_title(\"Wines over $500 by country\")\n",
    "plt.xlabel('Count')"
   ]
  },
  {
   "cell_type": "markdown",
   "metadata": {},
   "source": [
    "I can see from these that France has both the highest scoring wine, and the highest price wine. Also US wine scores high, it is not as expensive."
   ]
  },
  {
   "cell_type": "markdown",
   "metadata": {},
   "source": [
    "## Making more Charts for analysis\n",
    "\n",
    "#### Now I am going to create some data sets that will help me look at the Countries, Varieties, and Regions with the highest Prices and Points."
   ]
  },
  {
   "cell_type": "code",
   "execution_count": 41,
   "metadata": {},
   "outputs": [],
   "source": [
    "avgPPV = df.groupby('Variety').mean()\n",
    "# This data set has average points and price by variety\n",
    "\n",
    "avgPPC = df.groupby('Country').mean()\n",
    "# This data set has average points and price by Country"
   ]
  },
  {
   "cell_type": "code",
   "execution_count": 48,
   "metadata": {},
   "outputs": [
    {
     "data": {
      "text/html": [
       "<div>\n",
       "<style scoped>\n",
       "    .dataframe tbody tr th:only-of-type {\n",
       "        vertical-align: middle;\n",
       "    }\n",
       "\n",
       "    .dataframe tbody tr th {\n",
       "        vertical-align: top;\n",
       "    }\n",
       "\n",
       "    .dataframe thead th {\n",
       "        text-align: right;\n",
       "    }\n",
       "</style>\n",
       "<table border=\"1\" class=\"dataframe\">\n",
       "  <thead>\n",
       "    <tr style=\"text-align: right;\">\n",
       "      <th></th>\n",
       "      <th>Points</th>\n",
       "      <th>Price</th>\n",
       "    </tr>\n",
       "    <tr>\n",
       "      <th>Variety</th>\n",
       "      <th></th>\n",
       "      <th></th>\n",
       "    </tr>\n",
       "  </thead>\n",
       "  <tbody>\n",
       "    <tr>\n",
       "      <th>Champagne Blend</th>\n",
       "      <td>89.726527</td>\n",
       "      <td>72.052871</td>\n",
       "    </tr>\n",
       "    <tr>\n",
       "      <th>Nebbiolo</th>\n",
       "      <td>90.414770</td>\n",
       "      <td>66.414306</td>\n",
       "    </tr>\n",
       "    <tr>\n",
       "      <th>Sangiovese Grosso</th>\n",
       "      <td>90.849541</td>\n",
       "      <td>65.319266</td>\n",
       "    </tr>\n",
       "    <tr>\n",
       "      <th>Cabernet Sauvignon</th>\n",
       "      <td>88.838997</td>\n",
       "      <td>51.775294</td>\n",
       "    </tr>\n",
       "    <tr>\n",
       "      <th>Pinot Noir</th>\n",
       "      <td>89.585071</td>\n",
       "      <td>49.615427</td>\n",
       "    </tr>\n",
       "    <tr>\n",
       "      <th>...</th>\n",
       "      <td>...</td>\n",
       "      <td>...</td>\n",
       "    </tr>\n",
       "    <tr>\n",
       "      <th>Pinot Grigio</th>\n",
       "      <td>86.209945</td>\n",
       "      <td>16.690608</td>\n",
       "    </tr>\n",
       "    <tr>\n",
       "      <th>Bonarda</th>\n",
       "      <td>86.391753</td>\n",
       "      <td>16.391753</td>\n",
       "    </tr>\n",
       "    <tr>\n",
       "      <th>Verdejo</th>\n",
       "      <td>86.272727</td>\n",
       "      <td>16.166667</td>\n",
       "    </tr>\n",
       "    <tr>\n",
       "      <th>Viura</th>\n",
       "      <td>85.180000</td>\n",
       "      <td>15.100000</td>\n",
       "    </tr>\n",
       "    <tr>\n",
       "      <th>Torrontés</th>\n",
       "      <td>85.510917</td>\n",
       "      <td>13.751092</td>\n",
       "    </tr>\n",
       "  </tbody>\n",
       "</table>\n",
       "<p>76 rows × 2 columns</p>\n",
       "</div>"
      ],
      "text/plain": [
       "                       Points      Price\n",
       "Variety                                 \n",
       "Champagne Blend     89.726527  72.052871\n",
       "Nebbiolo            90.414770  66.414306\n",
       "Sangiovese Grosso   90.849541  65.319266\n",
       "Cabernet Sauvignon  88.838997  51.775294\n",
       "Pinot Noir          89.585071  49.615427\n",
       "...                       ...        ...\n",
       "Pinot Grigio        86.209945  16.690608\n",
       "Bonarda             86.391753  16.391753\n",
       "Verdejo             86.272727  16.166667\n",
       "Viura               85.180000  15.100000\n",
       "Torrontés           85.510917  13.751092\n",
       "\n",
       "[76 rows x 2 columns]"
      ]
     },
     "execution_count": 48,
     "metadata": {},
     "output_type": "execute_result"
    }
   ],
   "source": [
    "avgPPV.sort_values(by = 'Price', ascending = False)"
   ]
  },
  {
   "cell_type": "code",
   "execution_count": 47,
   "metadata": {},
   "outputs": [
    {
     "data": {
      "text/html": [
       "<div>\n",
       "<style scoped>\n",
       "    .dataframe tbody tr th:only-of-type {\n",
       "        vertical-align: middle;\n",
       "    }\n",
       "\n",
       "    .dataframe tbody tr th {\n",
       "        vertical-align: top;\n",
       "    }\n",
       "\n",
       "    .dataframe thead th {\n",
       "        text-align: right;\n",
       "    }\n",
       "</style>\n",
       "<table border=\"1\" class=\"dataframe\">\n",
       "  <thead>\n",
       "    <tr style=\"text-align: right;\">\n",
       "      <th></th>\n",
       "      <th>Points</th>\n",
       "      <th>Price</th>\n",
       "    </tr>\n",
       "    <tr>\n",
       "      <th>Variety</th>\n",
       "      <th></th>\n",
       "      <th></th>\n",
       "    </tr>\n",
       "  </thead>\n",
       "  <tbody>\n",
       "    <tr>\n",
       "      <th>Sangiovese Grosso</th>\n",
       "      <td>90.849541</td>\n",
       "      <td>65.319266</td>\n",
       "    </tr>\n",
       "    <tr>\n",
       "      <th>Nebbiolo</th>\n",
       "      <td>90.414770</td>\n",
       "      <td>66.414306</td>\n",
       "    </tr>\n",
       "    <tr>\n",
       "      <th>Nerello Mascalese</th>\n",
       "      <td>89.833333</td>\n",
       "      <td>42.147059</td>\n",
       "    </tr>\n",
       "    <tr>\n",
       "      <th>Tannat</th>\n",
       "      <td>89.810000</td>\n",
       "      <td>35.900000</td>\n",
       "    </tr>\n",
       "    <tr>\n",
       "      <th>Champagne Blend</th>\n",
       "      <td>89.726527</td>\n",
       "      <td>72.052871</td>\n",
       "    </tr>\n",
       "    <tr>\n",
       "      <th>...</th>\n",
       "      <td>...</td>\n",
       "      <td>...</td>\n",
       "    </tr>\n",
       "    <tr>\n",
       "      <th>Verdejo</th>\n",
       "      <td>86.272727</td>\n",
       "      <td>16.166667</td>\n",
       "    </tr>\n",
       "    <tr>\n",
       "      <th>Pinot Grigio</th>\n",
       "      <td>86.209945</td>\n",
       "      <td>16.690608</td>\n",
       "    </tr>\n",
       "    <tr>\n",
       "      <th>Garnacha</th>\n",
       "      <td>85.889251</td>\n",
       "      <td>22.286645</td>\n",
       "    </tr>\n",
       "    <tr>\n",
       "      <th>Torrontés</th>\n",
       "      <td>85.510917</td>\n",
       "      <td>13.751092</td>\n",
       "    </tr>\n",
       "    <tr>\n",
       "      <th>Viura</th>\n",
       "      <td>85.180000</td>\n",
       "      <td>15.100000</td>\n",
       "    </tr>\n",
       "  </tbody>\n",
       "</table>\n",
       "<p>76 rows × 2 columns</p>\n",
       "</div>"
      ],
      "text/plain": [
       "                      Points      Price\n",
       "Variety                                \n",
       "Sangiovese Grosso  90.849541  65.319266\n",
       "Nebbiolo           90.414770  66.414306\n",
       "Nerello Mascalese  89.833333  42.147059\n",
       "Tannat             89.810000  35.900000\n",
       "Champagne Blend    89.726527  72.052871\n",
       "...                      ...        ...\n",
       "Verdejo            86.272727  16.166667\n",
       "Pinot Grigio       86.209945  16.690608\n",
       "Garnacha           85.889251  22.286645\n",
       "Torrontés          85.510917  13.751092\n",
       "Viura              85.180000  15.100000\n",
       "\n",
       "[76 rows x 2 columns]"
      ]
     },
     "execution_count": 47,
     "metadata": {},
     "output_type": "execute_result"
    }
   ],
   "source": [
    "avgPPV.sort_values(by = 'Points', ascending = False)"
   ]
  },
  {
   "cell_type": "markdown",
   "metadata": {},
   "source": [
    "## Variety:\n",
    "#### Highest Average Price: Champagne Blend\n",
    "#### Highest Average Points: Sangiovese Grosso"
   ]
  },
  {
   "cell_type": "code",
   "execution_count": 49,
   "metadata": {},
   "outputs": [
    {
     "data": {
      "text/html": [
       "<div>\n",
       "<style scoped>\n",
       "    .dataframe tbody tr th:only-of-type {\n",
       "        vertical-align: middle;\n",
       "    }\n",
       "\n",
       "    .dataframe tbody tr th {\n",
       "        vertical-align: top;\n",
       "    }\n",
       "\n",
       "    .dataframe thead th {\n",
       "        text-align: right;\n",
       "    }\n",
       "</style>\n",
       "<table border=\"1\" class=\"dataframe\">\n",
       "  <thead>\n",
       "    <tr style=\"text-align: right;\">\n",
       "      <th></th>\n",
       "      <th>Points</th>\n",
       "      <th>Price</th>\n",
       "    </tr>\n",
       "    <tr>\n",
       "      <th>Country</th>\n",
       "      <th></th>\n",
       "      <th></th>\n",
       "    </tr>\n",
       "  </thead>\n",
       "  <tbody>\n",
       "    <tr>\n",
       "      <th>France</th>\n",
       "      <td>88.752551</td>\n",
       "      <td>42.968614</td>\n",
       "    </tr>\n",
       "    <tr>\n",
       "      <th>Italy</th>\n",
       "      <td>88.736044</td>\n",
       "      <td>41.300959</td>\n",
       "    </tr>\n",
       "    <tr>\n",
       "      <th>US</th>\n",
       "      <td>88.588378</td>\n",
       "      <td>36.970902</td>\n",
       "    </tr>\n",
       "    <tr>\n",
       "      <th>Australia</th>\n",
       "      <td>88.536498</td>\n",
       "      <td>35.125574</td>\n",
       "    </tr>\n",
       "    <tr>\n",
       "      <th>Canada</th>\n",
       "      <td>89.324742</td>\n",
       "      <td>33.840206</td>\n",
       "    </tr>\n",
       "    <tr>\n",
       "      <th>Spain</th>\n",
       "      <td>87.252259</td>\n",
       "      <td>27.702947</td>\n",
       "    </tr>\n",
       "    <tr>\n",
       "      <th>Argentina</th>\n",
       "      <td>86.617817</td>\n",
       "      <td>24.163880</td>\n",
       "    </tr>\n",
       "  </tbody>\n",
       "</table>\n",
       "</div>"
      ],
      "text/plain": [
       "              Points      Price\n",
       "Country                        \n",
       "France     88.752551  42.968614\n",
       "Italy      88.736044  41.300959\n",
       "US         88.588378  36.970902\n",
       "Australia  88.536498  35.125574\n",
       "Canada     89.324742  33.840206\n",
       "Spain      87.252259  27.702947\n",
       "Argentina  86.617817  24.163880"
      ]
     },
     "execution_count": 49,
     "metadata": {},
     "output_type": "execute_result"
    }
   ],
   "source": [
    "avgPPC.sort_values(by = 'Price', ascending = False)"
   ]
  },
  {
   "cell_type": "code",
   "execution_count": 51,
   "metadata": {},
   "outputs": [
    {
     "data": {
      "text/html": [
       "<div>\n",
       "<style scoped>\n",
       "    .dataframe tbody tr th:only-of-type {\n",
       "        vertical-align: middle;\n",
       "    }\n",
       "\n",
       "    .dataframe tbody tr th {\n",
       "        vertical-align: top;\n",
       "    }\n",
       "\n",
       "    .dataframe thead th {\n",
       "        text-align: right;\n",
       "    }\n",
       "</style>\n",
       "<table border=\"1\" class=\"dataframe\">\n",
       "  <thead>\n",
       "    <tr style=\"text-align: right;\">\n",
       "      <th></th>\n",
       "      <th>Points</th>\n",
       "      <th>Price</th>\n",
       "    </tr>\n",
       "    <tr>\n",
       "      <th>Country</th>\n",
       "      <th></th>\n",
       "      <th></th>\n",
       "    </tr>\n",
       "  </thead>\n",
       "  <tbody>\n",
       "    <tr>\n",
       "      <th>Canada</th>\n",
       "      <td>89.324742</td>\n",
       "      <td>33.840206</td>\n",
       "    </tr>\n",
       "    <tr>\n",
       "      <th>France</th>\n",
       "      <td>88.752551</td>\n",
       "      <td>42.968614</td>\n",
       "    </tr>\n",
       "    <tr>\n",
       "      <th>Italy</th>\n",
       "      <td>88.736044</td>\n",
       "      <td>41.300959</td>\n",
       "    </tr>\n",
       "    <tr>\n",
       "      <th>US</th>\n",
       "      <td>88.588378</td>\n",
       "      <td>36.970902</td>\n",
       "    </tr>\n",
       "    <tr>\n",
       "      <th>Australia</th>\n",
       "      <td>88.536498</td>\n",
       "      <td>35.125574</td>\n",
       "    </tr>\n",
       "    <tr>\n",
       "      <th>Spain</th>\n",
       "      <td>87.252259</td>\n",
       "      <td>27.702947</td>\n",
       "    </tr>\n",
       "    <tr>\n",
       "      <th>Argentina</th>\n",
       "      <td>86.617817</td>\n",
       "      <td>24.163880</td>\n",
       "    </tr>\n",
       "  </tbody>\n",
       "</table>\n",
       "</div>"
      ],
      "text/plain": [
       "              Points      Price\n",
       "Country                        \n",
       "Canada     89.324742  33.840206\n",
       "France     88.752551  42.968614\n",
       "Italy      88.736044  41.300959\n",
       "US         88.588378  36.970902\n",
       "Australia  88.536498  35.125574\n",
       "Spain      87.252259  27.702947\n",
       "Argentina  86.617817  24.163880"
      ]
     },
     "execution_count": 51,
     "metadata": {},
     "output_type": "execute_result"
    }
   ],
   "source": [
    "avgPPC.sort_values(by = 'Points', ascending = False)"
   ]
  },
  {
   "cell_type": "markdown",
   "metadata": {},
   "source": [
    "## Country:\n",
    "#### Highest average Price: France\n",
    "#### Highest average Points: Canada"
   ]
  },
  {
   "cell_type": "markdown",
   "metadata": {},
   "source": [
    "Interesting Notes:\n",
    "- Why does Canada have the highest average Points, when in the histogram, it seemed that France did?\n",
    "- How does the averages compare to the ranges/max/min of price?\n",
    "\n",
    "#### I am going to make some pivot tables for further exploration"
   ]
  },
  {
   "cell_type": "code",
   "execution_count": 74,
   "metadata": {},
   "outputs": [
    {
     "data": {
      "text/html": [
       "<div>\n",
       "<style scoped>\n",
       "    .dataframe tbody tr th:only-of-type {\n",
       "        vertical-align: middle;\n",
       "    }\n",
       "\n",
       "    .dataframe tbody tr th {\n",
       "        vertical-align: top;\n",
       "    }\n",
       "\n",
       "    .dataframe thead th {\n",
       "        text-align: right;\n",
       "    }\n",
       "</style>\n",
       "<table border=\"1\" class=\"dataframe\">\n",
       "  <thead>\n",
       "    <tr style=\"text-align: right;\">\n",
       "      <th></th>\n",
       "      <th></th>\n",
       "      <th>Price</th>\n",
       "    </tr>\n",
       "    <tr>\n",
       "      <th>Country</th>\n",
       "      <th>Variety</th>\n",
       "      <th></th>\n",
       "    </tr>\n",
       "  </thead>\n",
       "  <tbody>\n",
       "    <tr>\n",
       "      <th rowspan=\"4\" valign=\"top\">Argentina</th>\n",
       "      <th>Cabernet Sauvignon</th>\n",
       "      <td>19.694779</td>\n",
       "    </tr>\n",
       "    <tr>\n",
       "      <th>Champagne Blend</th>\n",
       "      <td>22.571429</td>\n",
       "    </tr>\n",
       "    <tr>\n",
       "      <th>Nebbiolo</th>\n",
       "      <td>63.666667</td>\n",
       "    </tr>\n",
       "    <tr>\n",
       "      <th>Pinot Noir</th>\n",
       "      <td>23.500000</td>\n",
       "    </tr>\n",
       "    <tr>\n",
       "      <th rowspan=\"3\" valign=\"top\">Australia</th>\n",
       "      <th>Cabernet Sauvignon</th>\n",
       "      <td>35.794466</td>\n",
       "    </tr>\n",
       "    <tr>\n",
       "      <th>Champagne Blend</th>\n",
       "      <td>23.500000</td>\n",
       "    </tr>\n",
       "    <tr>\n",
       "      <th>Pinot Noir</th>\n",
       "      <td>32.400000</td>\n",
       "    </tr>\n",
       "    <tr>\n",
       "      <th rowspan=\"2\" valign=\"top\">Canada</th>\n",
       "      <th>Cabernet Sauvignon</th>\n",
       "      <td>48.833333</td>\n",
       "    </tr>\n",
       "    <tr>\n",
       "      <th>Pinot Noir</th>\n",
       "      <td>32.809524</td>\n",
       "    </tr>\n",
       "    <tr>\n",
       "      <th rowspan=\"3\" valign=\"top\">France</th>\n",
       "      <th>Cabernet Sauvignon</th>\n",
       "      <td>17.673469</td>\n",
       "    </tr>\n",
       "    <tr>\n",
       "      <th>Champagne Blend</th>\n",
       "      <td>77.914849</td>\n",
       "    </tr>\n",
       "    <tr>\n",
       "      <th>Pinot Noir</th>\n",
       "      <td>84.372428</td>\n",
       "    </tr>\n",
       "    <tr>\n",
       "      <th rowspan=\"5\" valign=\"top\">Italy</th>\n",
       "      <th>Cabernet Sauvignon</th>\n",
       "      <td>45.324074</td>\n",
       "    </tr>\n",
       "    <tr>\n",
       "      <th>Champagne Blend</th>\n",
       "      <td>24.900000</td>\n",
       "    </tr>\n",
       "    <tr>\n",
       "      <th>Nebbiolo</th>\n",
       "      <td>67.157769</td>\n",
       "    </tr>\n",
       "    <tr>\n",
       "      <th>Pinot Noir</th>\n",
       "      <td>24.500000</td>\n",
       "    </tr>\n",
       "    <tr>\n",
       "      <th>Sangiovese Grosso</th>\n",
       "      <td>65.356618</td>\n",
       "    </tr>\n",
       "    <tr>\n",
       "      <th rowspan=\"3\" valign=\"top\">Spain</th>\n",
       "      <th>Cabernet Sauvignon</th>\n",
       "      <td>32.604167</td>\n",
       "    </tr>\n",
       "    <tr>\n",
       "      <th>Champagne Blend</th>\n",
       "      <td>10.769231</td>\n",
       "    </tr>\n",
       "    <tr>\n",
       "      <th>Pinot Noir</th>\n",
       "      <td>19.818182</td>\n",
       "    </tr>\n",
       "    <tr>\n",
       "      <th rowspan=\"5\" valign=\"top\">US</th>\n",
       "      <th>Cabernet Sauvignon</th>\n",
       "      <td>55.217058</td>\n",
       "    </tr>\n",
       "    <tr>\n",
       "      <th>Champagne Blend</th>\n",
       "      <td>34.114583</td>\n",
       "    </tr>\n",
       "    <tr>\n",
       "      <th>Nebbiolo</th>\n",
       "      <td>36.576923</td>\n",
       "    </tr>\n",
       "    <tr>\n",
       "      <th>Pinot Noir</th>\n",
       "      <td>44.643381</td>\n",
       "    </tr>\n",
       "    <tr>\n",
       "      <th>Sangiovese Grosso</th>\n",
       "      <td>45.000000</td>\n",
       "    </tr>\n",
       "  </tbody>\n",
       "</table>\n",
       "</div>"
      ],
      "text/plain": [
       "                                  Price\n",
       "Country   Variety                      \n",
       "Argentina Cabernet Sauvignon  19.694779\n",
       "          Champagne Blend     22.571429\n",
       "          Nebbiolo            63.666667\n",
       "          Pinot Noir          23.500000\n",
       "Australia Cabernet Sauvignon  35.794466\n",
       "          Champagne Blend     23.500000\n",
       "          Pinot Noir          32.400000\n",
       "Canada    Cabernet Sauvignon  48.833333\n",
       "          Pinot Noir          32.809524\n",
       "France    Cabernet Sauvignon  17.673469\n",
       "          Champagne Blend     77.914849\n",
       "          Pinot Noir          84.372428\n",
       "Italy     Cabernet Sauvignon  45.324074\n",
       "          Champagne Blend     24.900000\n",
       "          Nebbiolo            67.157769\n",
       "          Pinot Noir          24.500000\n",
       "          Sangiovese Grosso   65.356618\n",
       "Spain     Cabernet Sauvignon  32.604167\n",
       "          Champagne Blend     10.769231\n",
       "          Pinot Noir          19.818182\n",
       "US        Cabernet Sauvignon  55.217058\n",
       "          Champagne Blend     34.114583\n",
       "          Nebbiolo            36.576923\n",
       "          Pinot Noir          44.643381\n",
       "          Sangiovese Grosso   45.000000"
      ]
     },
     "execution_count": 74,
     "metadata": {},
     "output_type": "execute_result"
    }
   ],
   "source": [
    "top5avgPriceWines = avgPPV.sort_values(by = 'Price', ascending = False)[:5]\n",
    "top5avgPriceWines = ['Champagne Blend','Nebbiolo','Sangiovese Grosso',\n",
    "                     'Cabernet Sauvignon','Pinot Noir']\n",
    "df_top5Price = df[df['Variety'].isin(top5avgPriceWines)]\n",
    "\n",
    "pricePivot = df_top5Price.pivot_table(index=['Country','Variety'],values=['Price'],aggfunc='mean')"
   ]
  },
  {
   "cell_type": "code",
   "execution_count": 77,
   "metadata": {},
   "outputs": [
    {
     "data": {
      "text/plain": [
       "<matplotlib.axes._subplots.AxesSubplot at 0x14a7d2280>"
      ]
     },
     "execution_count": 77,
     "metadata": {},
     "output_type": "execute_result"
    },
    {
     "data": {
      "image/png": "[encoded data removed]",
      "text/plain": [
       "<Figure size 576x432 with 2 Axes>"
      ]
     },
     "metadata": {
      "needs_background": "light"
     },
     "output_type": "display_data"
    }
   ],
   "source": [
    "plt.figure(figsize=(8,6))\n",
    "sns.set_context('paper', font_scale=1.4)\n",
    "\n",
    "heat = pricePivot.pivot_table(index='Variety', columns='Country', values='Price')\n",
    "# You can separate data with lines\n",
    "sns.heatmap(heat, cmap='Blues', linecolor='white', linewidth=1)"
   ]
  },
  {
   "cell_type": "code",
   "execution_count": 82,
   "metadata": {},
   "outputs": [],
   "source": [
    "top5avgPointWines = avgPPV.sort_values(by = 'Points', ascending = False)[:5]\n",
    "top5avgPointWines = ['Nerello Mascalese','Nebbiolo','Sangiovese Grosso',\n",
    "                   'Champagne Blend','Tannat']\n",
    "df_top5Price = df[df['Variety'].isin(top5avgPriceWines)]\n",
    "\n",
    "pricePivot = df_top5Price.pivot_table(index=['Country','Variety'],values=['Points'],aggfunc='mean')\n"
   ]
  },
  {
   "cell_type": "code",
   "execution_count": 83,
   "metadata": {},
   "outputs": [
    {
     "data": {
      "text/plain": [
       "<matplotlib.axes._subplots.AxesSubplot at 0x1497093a0>"
      ]
     },
     "execution_count": 83,
     "metadata": {},
     "output_type": "execute_result"
    },
    {
     "data": {
      "image/png": "[encoded data removed]",
      "text/plain": [
       "<Figure size 576x432 with 2 Axes>"
      ]
     },
     "metadata": {
      "needs_background": "light"
     },
     "output_type": "display_data"
    }
   ],
   "source": [
    "plt.figure(figsize=(8,6))\n",
    "sns.set_context('paper', font_scale=1.4)\n",
    "\n",
    "heat = pricePivot.pivot_table(index='Variety', columns='Country', values='Points')\n",
    "# You can separate data with lines\n",
    "sns.heatmap(heat, cmap='Blues', linecolor='white', linewidth=1)"
   ]
  },
  {
   "cell_type": "markdown",
   "metadata": {},
   "source": [
    "## Conclusions to be made from the heat maps:\n",
    "#### 1. Highest variety/country pair Price: French Pinot Noir\n",
    "#### 2. Highest variety/country pair Points: Italian Sangiovese Grosso"
   ]
  },
  {
   "cell_type": "markdown",
   "metadata": {},
   "source": [
    "# Learnings to take into my next step: Analysis\n",
    "- There are too many wine varieties to look at them all so it is best to look at the top 5\n",
    "- Price correlates to Points, but there are still some wine varieties that have low prices but high points\n",
    "- Heat maps are very useful for visualizing/comparing 2 pieces of nonnumerical data with one piece of numerical data"
   ]
  },
  {
   "cell_type": "code",
   "execution_count": null,
   "metadata": {},
   "outputs": [],
   "source": []
  }
 ],
 "metadata": {
  "kernelspec": {
   "display_name": "Python 3",
   "language": "python",
   "name": "python3"
  },
  "language_info": {
   "codemirror_mode": {
    "name": "ipython",
    "version": 3
   },
   "file_extension": ".py",
   "mimetype": "text/x-python",
   "name": "python",
   "nbconvert_exporter": "python",
   "pygments_lexer": "ipython3",
   "version": "3.8.5"
  }
 },
 "nbformat": 4,
 "nbformat_minor": 4
}
